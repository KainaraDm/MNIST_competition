{
 "cells": [
  {
   "cell_type": "markdown",
   "metadata": {},
   "source": [
    "# Import libraries and data"
   ]
  },
  {
   "cell_type": "markdown",
   "metadata": {},
   "source": [
    "**Introduction** This notebook has been developed for the Digit Recognizer Kaggle competition (https://www.kaggle.com/competitions/digit-recognizer). The objective is to predict numbers from images using computer vision techniques. To address this task, *Convolutional and Fully Connected Neural Networks* were employed. Furthermore, the model's performance was enhanced through the application of *Dropout* and *Batch Normalization* techniques. An accuracy of **0.99** was achieved."
   ]
  },
  {
   "cell_type": "code",
   "execution_count": 1,
   "metadata": {
    "id": "9X-sFOX4z66y"
   },
   "outputs": [],
   "source": [
    "import pandas as pd\n",
    "import numpy as np\n",
    "import tensorflow as tf\n",
    "import matplotlib.pyplot as plt\n",
    "from tensorflow.keras.preprocessing.image import ImageDataGenerator\n",
    "from tensorflow.keras.callbacks import ModelCheckpoint"
   ]
  },
  {
   "cell_type": "code",
   "execution_count": 2,
   "metadata": {
    "id": "2dkPHXLbF1tR"
   },
   "outputs": [],
   "source": [
    "train_df = pd.read_csv (r'C:\\Users\\Dima\\Downloads\\train.csv.zip')\n",
    "test_df = pd.read_csv (r'C:\\Users\\Dima\\Downloads\\test.csv.zip')\n",
    "submission = pd.read_csv (r'C:\\Users\\Dima\\Downloads\\sample_submission.csv')"
   ]
  },
  {
   "cell_type": "code",
   "execution_count": 3,
   "metadata": {
    "colab": {
     "base_uri": "https://localhost:8080/",
     "height": 256
    },
    "id": "xn-AArZ5G_F9",
    "outputId": "f8e153f9-dedb-4002-ac0c-00716f6000c2"
   },
   "outputs": [
    {
     "data": {
      "text/html": [
       "<div>\n",
       "<style scoped>\n",
       "    .dataframe tbody tr th:only-of-type {\n",
       "        vertical-align: middle;\n",
       "    }\n",
       "\n",
       "    .dataframe tbody tr th {\n",
       "        vertical-align: top;\n",
       "    }\n",
       "\n",
       "    .dataframe thead th {\n",
       "        text-align: right;\n",
       "    }\n",
       "</style>\n",
       "<table border=\"1\" class=\"dataframe\">\n",
       "  <thead>\n",
       "    <tr style=\"text-align: right;\">\n",
       "      <th></th>\n",
       "      <th>label</th>\n",
       "      <th>pixel0</th>\n",
       "      <th>pixel1</th>\n",
       "      <th>pixel2</th>\n",
       "      <th>pixel3</th>\n",
       "      <th>pixel4</th>\n",
       "      <th>pixel5</th>\n",
       "      <th>pixel6</th>\n",
       "      <th>pixel7</th>\n",
       "      <th>pixel8</th>\n",
       "      <th>...</th>\n",
       "      <th>pixel774</th>\n",
       "      <th>pixel775</th>\n",
       "      <th>pixel776</th>\n",
       "      <th>pixel777</th>\n",
       "      <th>pixel778</th>\n",
       "      <th>pixel779</th>\n",
       "      <th>pixel780</th>\n",
       "      <th>pixel781</th>\n",
       "      <th>pixel782</th>\n",
       "      <th>pixel783</th>\n",
       "    </tr>\n",
       "  </thead>\n",
       "  <tbody>\n",
       "    <tr>\n",
       "      <th>0</th>\n",
       "      <td>1</td>\n",
       "      <td>0</td>\n",
       "      <td>0</td>\n",
       "      <td>0</td>\n",
       "      <td>0</td>\n",
       "      <td>0</td>\n",
       "      <td>0</td>\n",
       "      <td>0</td>\n",
       "      <td>0</td>\n",
       "      <td>0</td>\n",
       "      <td>...</td>\n",
       "      <td>0</td>\n",
       "      <td>0</td>\n",
       "      <td>0</td>\n",
       "      <td>0</td>\n",
       "      <td>0</td>\n",
       "      <td>0</td>\n",
       "      <td>0</td>\n",
       "      <td>0</td>\n",
       "      <td>0</td>\n",
       "      <td>0</td>\n",
       "    </tr>\n",
       "    <tr>\n",
       "      <th>1</th>\n",
       "      <td>0</td>\n",
       "      <td>0</td>\n",
       "      <td>0</td>\n",
       "      <td>0</td>\n",
       "      <td>0</td>\n",
       "      <td>0</td>\n",
       "      <td>0</td>\n",
       "      <td>0</td>\n",
       "      <td>0</td>\n",
       "      <td>0</td>\n",
       "      <td>...</td>\n",
       "      <td>0</td>\n",
       "      <td>0</td>\n",
       "      <td>0</td>\n",
       "      <td>0</td>\n",
       "      <td>0</td>\n",
       "      <td>0</td>\n",
       "      <td>0</td>\n",
       "      <td>0</td>\n",
       "      <td>0</td>\n",
       "      <td>0</td>\n",
       "    </tr>\n",
       "    <tr>\n",
       "      <th>2</th>\n",
       "      <td>1</td>\n",
       "      <td>0</td>\n",
       "      <td>0</td>\n",
       "      <td>0</td>\n",
       "      <td>0</td>\n",
       "      <td>0</td>\n",
       "      <td>0</td>\n",
       "      <td>0</td>\n",
       "      <td>0</td>\n",
       "      <td>0</td>\n",
       "      <td>...</td>\n",
       "      <td>0</td>\n",
       "      <td>0</td>\n",
       "      <td>0</td>\n",
       "      <td>0</td>\n",
       "      <td>0</td>\n",
       "      <td>0</td>\n",
       "      <td>0</td>\n",
       "      <td>0</td>\n",
       "      <td>0</td>\n",
       "      <td>0</td>\n",
       "    </tr>\n",
       "    <tr>\n",
       "      <th>3</th>\n",
       "      <td>4</td>\n",
       "      <td>0</td>\n",
       "      <td>0</td>\n",
       "      <td>0</td>\n",
       "      <td>0</td>\n",
       "      <td>0</td>\n",
       "      <td>0</td>\n",
       "      <td>0</td>\n",
       "      <td>0</td>\n",
       "      <td>0</td>\n",
       "      <td>...</td>\n",
       "      <td>0</td>\n",
       "      <td>0</td>\n",
       "      <td>0</td>\n",
       "      <td>0</td>\n",
       "      <td>0</td>\n",
       "      <td>0</td>\n",
       "      <td>0</td>\n",
       "      <td>0</td>\n",
       "      <td>0</td>\n",
       "      <td>0</td>\n",
       "    </tr>\n",
       "    <tr>\n",
       "      <th>4</th>\n",
       "      <td>0</td>\n",
       "      <td>0</td>\n",
       "      <td>0</td>\n",
       "      <td>0</td>\n",
       "      <td>0</td>\n",
       "      <td>0</td>\n",
       "      <td>0</td>\n",
       "      <td>0</td>\n",
       "      <td>0</td>\n",
       "      <td>0</td>\n",
       "      <td>...</td>\n",
       "      <td>0</td>\n",
       "      <td>0</td>\n",
       "      <td>0</td>\n",
       "      <td>0</td>\n",
       "      <td>0</td>\n",
       "      <td>0</td>\n",
       "      <td>0</td>\n",
       "      <td>0</td>\n",
       "      <td>0</td>\n",
       "      <td>0</td>\n",
       "    </tr>\n",
       "  </tbody>\n",
       "</table>\n",
       "<p>5 rows × 785 columns</p>\n",
       "</div>"
      ],
      "text/plain": [
       "   label  pixel0  pixel1  pixel2  pixel3  pixel4  pixel5  pixel6  pixel7  \\\n",
       "0      1       0       0       0       0       0       0       0       0   \n",
       "1      0       0       0       0       0       0       0       0       0   \n",
       "2      1       0       0       0       0       0       0       0       0   \n",
       "3      4       0       0       0       0       0       0       0       0   \n",
       "4      0       0       0       0       0       0       0       0       0   \n",
       "\n",
       "   pixel8  ...  pixel774  pixel775  pixel776  pixel777  pixel778  pixel779  \\\n",
       "0       0  ...         0         0         0         0         0         0   \n",
       "1       0  ...         0         0         0         0         0         0   \n",
       "2       0  ...         0         0         0         0         0         0   \n",
       "3       0  ...         0         0         0         0         0         0   \n",
       "4       0  ...         0         0         0         0         0         0   \n",
       "\n",
       "   pixel780  pixel781  pixel782  pixel783  \n",
       "0         0         0         0         0  \n",
       "1         0         0         0         0  \n",
       "2         0         0         0         0  \n",
       "3         0         0         0         0  \n",
       "4         0         0         0         0  \n",
       "\n",
       "[5 rows x 785 columns]"
      ]
     },
     "execution_count": 3,
     "metadata": {},
     "output_type": "execute_result"
    }
   ],
   "source": [
    "train_df.head ()"
   ]
  },
  {
   "cell_type": "code",
   "execution_count": 4,
   "metadata": {
    "colab": {
     "base_uri": "https://localhost:8080/",
     "height": 256
    },
    "id": "GTuHqbt5fRTY",
    "outputId": "696f92fe-60e5-46e3-aebc-f53384484db5",
    "scrolled": true
   },
   "outputs": [
    {
     "data": {
      "text/html": [
       "<div>\n",
       "<style scoped>\n",
       "    .dataframe tbody tr th:only-of-type {\n",
       "        vertical-align: middle;\n",
       "    }\n",
       "\n",
       "    .dataframe tbody tr th {\n",
       "        vertical-align: top;\n",
       "    }\n",
       "\n",
       "    .dataframe thead th {\n",
       "        text-align: right;\n",
       "    }\n",
       "</style>\n",
       "<table border=\"1\" class=\"dataframe\">\n",
       "  <thead>\n",
       "    <tr style=\"text-align: right;\">\n",
       "      <th></th>\n",
       "      <th>pixel0</th>\n",
       "      <th>pixel1</th>\n",
       "      <th>pixel2</th>\n",
       "      <th>pixel3</th>\n",
       "      <th>pixel4</th>\n",
       "      <th>pixel5</th>\n",
       "      <th>pixel6</th>\n",
       "      <th>pixel7</th>\n",
       "      <th>pixel8</th>\n",
       "      <th>pixel9</th>\n",
       "      <th>...</th>\n",
       "      <th>pixel774</th>\n",
       "      <th>pixel775</th>\n",
       "      <th>pixel776</th>\n",
       "      <th>pixel777</th>\n",
       "      <th>pixel778</th>\n",
       "      <th>pixel779</th>\n",
       "      <th>pixel780</th>\n",
       "      <th>pixel781</th>\n",
       "      <th>pixel782</th>\n",
       "      <th>pixel783</th>\n",
       "    </tr>\n",
       "  </thead>\n",
       "  <tbody>\n",
       "    <tr>\n",
       "      <th>0</th>\n",
       "      <td>0</td>\n",
       "      <td>0</td>\n",
       "      <td>0</td>\n",
       "      <td>0</td>\n",
       "      <td>0</td>\n",
       "      <td>0</td>\n",
       "      <td>0</td>\n",
       "      <td>0</td>\n",
       "      <td>0</td>\n",
       "      <td>0</td>\n",
       "      <td>...</td>\n",
       "      <td>0</td>\n",
       "      <td>0</td>\n",
       "      <td>0</td>\n",
       "      <td>0</td>\n",
       "      <td>0</td>\n",
       "      <td>0</td>\n",
       "      <td>0</td>\n",
       "      <td>0</td>\n",
       "      <td>0</td>\n",
       "      <td>0</td>\n",
       "    </tr>\n",
       "    <tr>\n",
       "      <th>1</th>\n",
       "      <td>0</td>\n",
       "      <td>0</td>\n",
       "      <td>0</td>\n",
       "      <td>0</td>\n",
       "      <td>0</td>\n",
       "      <td>0</td>\n",
       "      <td>0</td>\n",
       "      <td>0</td>\n",
       "      <td>0</td>\n",
       "      <td>0</td>\n",
       "      <td>...</td>\n",
       "      <td>0</td>\n",
       "      <td>0</td>\n",
       "      <td>0</td>\n",
       "      <td>0</td>\n",
       "      <td>0</td>\n",
       "      <td>0</td>\n",
       "      <td>0</td>\n",
       "      <td>0</td>\n",
       "      <td>0</td>\n",
       "      <td>0</td>\n",
       "    </tr>\n",
       "    <tr>\n",
       "      <th>2</th>\n",
       "      <td>0</td>\n",
       "      <td>0</td>\n",
       "      <td>0</td>\n",
       "      <td>0</td>\n",
       "      <td>0</td>\n",
       "      <td>0</td>\n",
       "      <td>0</td>\n",
       "      <td>0</td>\n",
       "      <td>0</td>\n",
       "      <td>0</td>\n",
       "      <td>...</td>\n",
       "      <td>0</td>\n",
       "      <td>0</td>\n",
       "      <td>0</td>\n",
       "      <td>0</td>\n",
       "      <td>0</td>\n",
       "      <td>0</td>\n",
       "      <td>0</td>\n",
       "      <td>0</td>\n",
       "      <td>0</td>\n",
       "      <td>0</td>\n",
       "    </tr>\n",
       "    <tr>\n",
       "      <th>3</th>\n",
       "      <td>0</td>\n",
       "      <td>0</td>\n",
       "      <td>0</td>\n",
       "      <td>0</td>\n",
       "      <td>0</td>\n",
       "      <td>0</td>\n",
       "      <td>0</td>\n",
       "      <td>0</td>\n",
       "      <td>0</td>\n",
       "      <td>0</td>\n",
       "      <td>...</td>\n",
       "      <td>0</td>\n",
       "      <td>0</td>\n",
       "      <td>0</td>\n",
       "      <td>0</td>\n",
       "      <td>0</td>\n",
       "      <td>0</td>\n",
       "      <td>0</td>\n",
       "      <td>0</td>\n",
       "      <td>0</td>\n",
       "      <td>0</td>\n",
       "    </tr>\n",
       "    <tr>\n",
       "      <th>4</th>\n",
       "      <td>0</td>\n",
       "      <td>0</td>\n",
       "      <td>0</td>\n",
       "      <td>0</td>\n",
       "      <td>0</td>\n",
       "      <td>0</td>\n",
       "      <td>0</td>\n",
       "      <td>0</td>\n",
       "      <td>0</td>\n",
       "      <td>0</td>\n",
       "      <td>...</td>\n",
       "      <td>0</td>\n",
       "      <td>0</td>\n",
       "      <td>0</td>\n",
       "      <td>0</td>\n",
       "      <td>0</td>\n",
       "      <td>0</td>\n",
       "      <td>0</td>\n",
       "      <td>0</td>\n",
       "      <td>0</td>\n",
       "      <td>0</td>\n",
       "    </tr>\n",
       "  </tbody>\n",
       "</table>\n",
       "<p>5 rows × 784 columns</p>\n",
       "</div>"
      ],
      "text/plain": [
       "   pixel0  pixel1  pixel2  pixel3  pixel4  pixel5  pixel6  pixel7  pixel8  \\\n",
       "0       0       0       0       0       0       0       0       0       0   \n",
       "1       0       0       0       0       0       0       0       0       0   \n",
       "2       0       0       0       0       0       0       0       0       0   \n",
       "3       0       0       0       0       0       0       0       0       0   \n",
       "4       0       0       0       0       0       0       0       0       0   \n",
       "\n",
       "   pixel9  ...  pixel774  pixel775  pixel776  pixel777  pixel778  pixel779  \\\n",
       "0       0  ...         0         0         0         0         0         0   \n",
       "1       0  ...         0         0         0         0         0         0   \n",
       "2       0  ...         0         0         0         0         0         0   \n",
       "3       0  ...         0         0         0         0         0         0   \n",
       "4       0  ...         0         0         0         0         0         0   \n",
       "\n",
       "   pixel780  pixel781  pixel782  pixel783  \n",
       "0         0         0         0         0  \n",
       "1         0         0         0         0  \n",
       "2         0         0         0         0  \n",
       "3         0         0         0         0  \n",
       "4         0         0         0         0  \n",
       "\n",
       "[5 rows x 784 columns]"
      ]
     },
     "execution_count": 4,
     "metadata": {},
     "output_type": "execute_result"
    }
   ],
   "source": [
    "test_df.head ()\n"
   ]
  },
  {
   "cell_type": "markdown",
   "metadata": {},
   "source": [
    "# Data analysis and data preproccessing"
   ]
  },
  {
   "cell_type": "markdown",
   "metadata": {},
   "source": [
    "## Data analysis"
   ]
  },
  {
   "cell_type": "code",
   "execution_count": 5,
   "metadata": {
    "colab": {
     "base_uri": "https://localhost:8080/"
    },
    "id": "RJ-ygh4AHORd",
    "outputId": "8c635343-46ef-4f21-f6a6-d06a5f6ac969"
   },
   "outputs": [
    {
     "data": {
      "text/plain": [
       "(42000, 785)"
      ]
     },
     "execution_count": 5,
     "metadata": {},
     "output_type": "execute_result"
    }
   ],
   "source": [
    "train_df.shape"
   ]
  },
  {
   "cell_type": "code",
   "execution_count": 6,
   "metadata": {
    "colab": {
     "base_uri": "https://localhost:8080/"
    },
    "id": "HE3bQ501fZdk",
    "outputId": "f2141a40-779a-4332-9fdd-74aee9039f22"
   },
   "outputs": [
    {
     "data": {
      "text/plain": [
       "(28000, 784)"
      ]
     },
     "execution_count": 6,
     "metadata": {},
     "output_type": "execute_result"
    }
   ],
   "source": [
    "test_df.shape"
   ]
  },
  {
   "cell_type": "code",
   "execution_count": 7,
   "metadata": {
    "colab": {
     "base_uri": "https://localhost:8080/"
    },
    "id": "G0AbBUIrHZeC",
    "outputId": "e943bd59-d900-43c3-9b1a-28906e569f21"
   },
   "outputs": [
    {
     "data": {
      "text/plain": [
       "255"
      ]
     },
     "execution_count": 7,
     "metadata": {},
     "output_type": "execute_result"
    }
   ],
   "source": [
    "# max value in df\n",
    "max(train_df.max())"
   ]
  },
  {
   "cell_type": "code",
   "execution_count": 8,
   "metadata": {},
   "outputs": [
    {
     "data": {
      "image/png": "[encoded data removed]",
      "text/plain": [
       "<Figure size 432x288 with 1 Axes>"
      ]
     },
     "metadata": {
      "needs_background": "light"
     },
     "output_type": "display_data"
    }
   ],
   "source": [
    "train_df.label.value_counts().plot(kind='bar')\n",
    "plt.show()"
   ]
  },
  {
   "cell_type": "markdown",
   "metadata": {},
   "source": [
    "Training dataset is balanced"
   ]
  },
  {
   "cell_type": "markdown",
   "metadata": {},
   "source": [
    "## Split the data into training and validation set"
   ]
  },
  {
   "cell_type": "markdown",
   "metadata": {},
   "source": [
    "Spliting the data in an 80:20 ratio"
   ]
  },
  {
   "cell_type": "code",
   "execution_count": 9,
   "metadata": {},
   "outputs": [
    {
     "data": {
      "text/plain": [
       "8400"
      ]
     },
     "execution_count": 9,
     "metadata": {},
     "output_type": "execute_result"
    }
   ],
   "source": [
    "ratio = 42000*0.2 #The size of the dataset is multiplied by a ratio level\n",
    "ratio = int (ratio)\n",
    "ratio"
   ]
  },
  {
   "cell_type": "code",
   "execution_count": 10,
   "metadata": {},
   "outputs": [
    {
     "data": {
      "text/plain": [
       "(8400, 785)"
      ]
     },
     "execution_count": 10,
     "metadata": {},
     "output_type": "execute_result"
    }
   ],
   "source": [
    "validation_df = train_df[:ratio]\n",
    "validation_df.shape"
   ]
  },
  {
   "cell_type": "code",
   "execution_count": 11,
   "metadata": {},
   "outputs": [
    {
     "data": {
      "text/plain": [
       "(33600, 785)"
      ]
     },
     "execution_count": 11,
     "metadata": {},
     "output_type": "execute_result"
    }
   ],
   "source": [
    "train_df = train_df[ratio:]\n",
    "train_df.shape"
   ]
  },
  {
   "cell_type": "markdown",
   "metadata": {
    "id": "1w7Iatl8JoWP"
   },
   "source": [
    "## Show first 20 images"
   ]
  },
  {
   "cell_type": "code",
   "execution_count": 12,
   "metadata": {
    "colab": {
     "base_uri": "https://localhost:8080/",
     "height": 591
    },
    "id": "IfHoYqZVHuhP",
    "outputId": "02f2c6b7-d304-4622-fed3-4dc5f2a50b62"
   },
   "outputs": [
    {
     "data": {
      "image/png": "[encoded data removed]",
      "text/plain": [
       "<Figure size 1080x576 with 20 Axes>"
      ]
     },
     "metadata": {
      "needs_background": "light"
     },
     "output_type": "display_data"
    }
   ],
   "source": [
    "fig, axes = plt.subplots(4, 5, figsize=(15, 8))\n",
    "for j in range(4):\n",
    "  for i in range(5):\n",
    "    index = j * 5 + i\n",
    "    pixels = train_df.iloc[index, 1:].values\n",
    "    image = np.reshape(pixels, (28, 28))\n",
    "    axes[j,i].imshow(image)\n",
    "    axes[j,i].set_title(f\"Number {train_df.iloc[index, 0]}\", fontsize = 20)\n",
    "    axes[j,i].axis('off')\n",
    "plt.tight_layout()\n",
    "plt.show()"
   ]
  },
  {
   "cell_type": "markdown",
   "metadata": {},
   "source": [
    "**Conclusion:** Numbers are centered, but some of them are tilted. That's why it's necessary to use the 'rotation_range'. Additionally, there are some horizontal deviations."
   ]
  },
  {
   "cell_type": "markdown",
   "metadata": {
    "id": "dGx-7HaqQNau"
   },
   "source": [
    "## Data preproccesing"
   ]
  },
  {
   "cell_type": "markdown",
   "metadata": {},
   "source": [
    "### Convert data into an array"
   ]
  },
  {
   "cell_type": "code",
   "execution_count": 45,
   "metadata": {
    "id": "20BrDtWQSWnw"
   },
   "outputs": [],
   "source": [
    "# Convert train data into array\n",
    "image_arrays = []\n",
    "for index, row in train_df.iterrows():\n",
    "    pixels = row.values[1:]  \n",
    "    image_array = np.array(pixels).reshape(28, 28, 1)\n",
    "    image_arrays.append(image_array)\n",
    "\n",
    "images = np.array(image_arrays)"
   ]
  },
  {
   "cell_type": "code",
   "execution_count": 46,
   "metadata": {},
   "outputs": [],
   "source": [
    "#Create and convert validation data labels \n",
    "labels = np.array(train_df.label)"
   ]
  },
  {
   "cell_type": "code",
   "execution_count": 47,
   "metadata": {},
   "outputs": [],
   "source": [
    "# Convert validation data\n",
    "image_arrays_val = []\n",
    "for index, row in validation_df.iterrows():\n",
    "    pixels_val = row.values[1:]  \n",
    "    image_array_val = np.array(pixels_val).reshape(28, 28, 1)\n",
    "    image_arrays_val.append(image_array_val)\n",
    "\n",
    "images_val = np.array(image_arrays_val)"
   ]
  },
  {
   "cell_type": "code",
   "execution_count": 48,
   "metadata": {},
   "outputs": [],
   "source": [
    "#Create and convert validation data labels \n",
    "labels_val = np.array(validation_df.label)"
   ]
  },
  {
   "cell_type": "code",
   "execution_count": 49,
   "metadata": {
    "id": "Lbk8nuBzeei4"
   },
   "outputs": [],
   "source": [
    "# Convert validation data\n",
    "image_arrays = []\n",
    "for index, row in test_df.iterrows():\n",
    "    pixels = row.values[0:]\n",
    "    image_array = np.array(pixels).reshape(28, 28, 1)\n",
    "    image_arrays.append(image_array)\n",
    "\n",
    "images_test = np.array(image_arrays)"
   ]
  },
  {
   "cell_type": "markdown",
   "metadata": {},
   "source": [
    "### Data augmentation"
   ]
  },
  {
   "cell_type": "code",
   "execution_count": 50,
   "metadata": {
    "id": "wkX4_WNKJ5tk"
   },
   "outputs": [],
   "source": [
    "train_datagen = ImageDataGenerator (rescale = 1./255,\n",
    "                                    rotation_range = 15,\n",
    "                                    width_shift_range = 0.05,\n",
    "                                    height_shift_range = 0.05,\n",
    "                                    shear_range = 0.05,\n",
    "                                    fill_mode = 'nearest')"
   ]
  },
  {
   "cell_type": "code",
   "execution_count": 51,
   "metadata": {
    "id": "dXbyHCUxRc4r"
   },
   "outputs": [],
   "source": [
    "#Augmentaion train data\n",
    "train_generator = train_datagen.flow (images,\n",
    "                                      batch_size = 256,\n",
    "                                      y=labels,\n",
    "                                      )\n"
   ]
  },
  {
   "cell_type": "code",
   "execution_count": 52,
   "metadata": {
    "id": "vpEQBcGwd1P1"
   },
   "outputs": [],
   "source": [
    "validation_datagen = ImageDataGenerator (rescale = 1./255)"
   ]
  },
  {
   "cell_type": "code",
   "execution_count": 53,
   "metadata": {
    "id": "3tZak9MqeRa2"
   },
   "outputs": [],
   "source": [
    "#Augmentaion validation data\n",
    "validation_generator = validation_datagen.flow (images_val,\n",
    "                                      batch_size = 256,\n",
    "                                      y=labels_val          \n",
    "                                      )"
   ]
  },
  {
   "cell_type": "markdown",
   "metadata": {
    "id": "0mLqEzL0XFFU"
   },
   "source": [
    "# Modeling"
   ]
  },
  {
   "cell_type": "markdown",
   "metadata": {},
   "source": [
    "## Create model with validation and training dataset"
   ]
  },
  {
   "cell_type": "code",
   "execution_count": 82,
   "metadata": {},
   "outputs": [],
   "source": [
    "# Create model\n",
    "model = tf.keras.models.Sequential ([\n",
    "    tf.keras.layers.Conv2D (48, (3,3), activation = 'relu'),\n",
    "    tf.keras.layers.MaxPooling2D(2,2),\n",
    "    tf.keras.layers.Conv2D (64, (5,5), activation = 'relu'),\n",
    "    tf.keras.layers.Conv2D (64, (4,4), activation = 'relu'),\n",
    "    tf.keras.layers.MaxPooling2D(2,2),\n",
    "    tf.keras.layers.BatchNormalization(),\n",
    "    tf.keras.layers.Flatten(),\n",
    "    tf.keras.layers.Dense (24, activation = 'relu', kernel_regularizer=tf.keras.regularizers.l2(0.01)),\n",
    "    tf.keras.layers.Dropout (0.05),\n",
    "    tf.keras.layers.Dense (10, activation = 'softmax')\n",
    "  ])\n"
   ]
  },
  {
   "cell_type": "code",
   "execution_count": 83,
   "metadata": {},
   "outputs": [
    {
     "name": "stdout",
     "output_type": "stream",
     "text": [
      "Epoch 1/100\n",
      "165/165 [==============================] - 55s 325ms/step - loss: 0.6124 - accuracy: 0.9044 - val_loss: 0.9700 - val_accuracy: 0.9664\n",
      "Epoch 2/100\n",
      "165/165 [==============================] - 56s 339ms/step - loss: 0.1971 - accuracy: 0.9756 - val_loss: 0.2432 - val_accuracy: 0.9886\n",
      "Epoch 3/100\n",
      "165/165 [==============================] - 54s 325ms/step - loss: 0.1206 - accuracy: 0.9811 - val_loss: 0.0978 - val_accuracy: 0.9857\n",
      "Epoch 4/100\n",
      "165/165 [==============================] - 57s 345ms/step - loss: 0.0942 - accuracy: 0.9839 - val_loss: 0.0685 - val_accuracy: 0.9896\n",
      "Epoch 5/100\n",
      "165/165 [==============================] - 60s 362ms/step - loss: 0.0814 - accuracy: 0.9855 - val_loss: 0.0649 - val_accuracy: 0.9876\n",
      "Epoch 6/100\n",
      "165/165 [==============================] - 60s 364ms/step - loss: 0.0729 - accuracy: 0.9869 - val_loss: 0.0546 - val_accuracy: 0.9910\n",
      "Epoch 7/100\n",
      "165/165 [==============================] - 60s 364ms/step - loss: 0.0668 - accuracy: 0.9881 - val_loss: 0.0629 - val_accuracy: 0.9869\n",
      "Epoch 8/100\n",
      "165/165 [==============================] - 60s 365ms/step - loss: 0.0624 - accuracy: 0.9887 - val_loss: 0.0476 - val_accuracy: 0.9923\n",
      "Epoch 9/100\n",
      "165/165 [==============================] - 60s 364ms/step - loss: 0.0621 - accuracy: 0.9889 - val_loss: 0.0558 - val_accuracy: 0.9906\n",
      "Epoch 10/100\n",
      "165/165 [==============================] - 60s 361ms/step - loss: 0.0554 - accuracy: 0.9905 - val_loss: 0.0441 - val_accuracy: 0.9926\n",
      "Epoch 11/100\n",
      "165/165 [==============================] - 59s 358ms/step - loss: 0.0521 - accuracy: 0.9906 - val_loss: 0.0485 - val_accuracy: 0.9915\n",
      "Epoch 12/100\n",
      "165/165 [==============================] - 60s 361ms/step - loss: 0.0491 - accuracy: 0.9912 - val_loss: 0.0324 - val_accuracy: 0.9955\n",
      "Epoch 13/100\n",
      "165/165 [==============================] - 60s 365ms/step - loss: 0.0497 - accuracy: 0.9910 - val_loss: 0.0538 - val_accuracy: 0.9896\n",
      "Epoch 14/100\n",
      "165/165 [==============================] - 57s 345ms/step - loss: 0.0473 - accuracy: 0.9918 - val_loss: 0.0326 - val_accuracy: 0.9951\n",
      "Epoch 15/100\n",
      "165/165 [==============================] - 60s 363ms/step - loss: 0.0457 - accuracy: 0.9920 - val_loss: 0.0398 - val_accuracy: 0.9923\n",
      "Epoch 16/100\n",
      "165/165 [==============================] - 60s 362ms/step - loss: 0.0425 - accuracy: 0.9925 - val_loss: 0.0286 - val_accuracy: 0.9955\n",
      "Epoch 17/100\n",
      "165/165 [==============================] - 58s 351ms/step - loss: 0.0442 - accuracy: 0.9919 - val_loss: 0.0304 - val_accuracy: 0.9962\n",
      "Epoch 18/100\n",
      "165/165 [==============================] - 58s 351ms/step - loss: 0.0399 - accuracy: 0.9931 - val_loss: 0.0453 - val_accuracy: 0.9906\n",
      "Epoch 19/100\n",
      "165/165 [==============================] - 59s 360ms/step - loss: 0.0453 - accuracy: 0.9921 - val_loss: 0.0317 - val_accuracy: 0.9946\n",
      "Epoch 20/100\n",
      "165/165 [==============================] - 59s 357ms/step - loss: 0.0376 - accuracy: 0.9935 - val_loss: 0.0254 - val_accuracy: 0.9974\n",
      "Epoch 21/100\n",
      "165/165 [==============================] - 60s 364ms/step - loss: 0.0348 - accuracy: 0.9941 - val_loss: 0.0277 - val_accuracy: 0.9951\n",
      "Epoch 22/100\n",
      "165/165 [==============================] - 57s 347ms/step - loss: 0.0359 - accuracy: 0.9935 - val_loss: 0.0327 - val_accuracy: 0.9950\n",
      "Epoch 23/100\n",
      "165/165 [==============================] - 54s 329ms/step - loss: 0.0353 - accuracy: 0.9938 - val_loss: 0.0304 - val_accuracy: 0.9951\n",
      "Epoch 24/100\n",
      "165/165 [==============================] - 54s 328ms/step - loss: 0.0341 - accuracy: 0.9945 - val_loss: 0.0262 - val_accuracy: 0.9969\n",
      "Epoch 25/100\n",
      "165/165 [==============================] - 54s 328ms/step - loss: 0.0359 - accuracy: 0.9942 - val_loss: 0.0366 - val_accuracy: 0.9943\n",
      "Epoch 26/100\n",
      "165/165 [==============================] - 55s 332ms/step - loss: 0.0350 - accuracy: 0.9944 - val_loss: 0.0229 - val_accuracy: 0.9965\n",
      "Epoch 27/100\n",
      "165/165 [==============================] - 54s 327ms/step - loss: 0.0316 - accuracy: 0.9947 - val_loss: 0.0212 - val_accuracy: 0.9977\n",
      "Epoch 28/100\n",
      "165/165 [==============================] - 56s 338ms/step - loss: 0.0321 - accuracy: 0.9942 - val_loss: 0.0253 - val_accuracy: 0.9969\n",
      "Epoch 29/100\n",
      "165/165 [==============================] - 58s 352ms/step - loss: 0.0424 - accuracy: 0.9929 - val_loss: 0.0326 - val_accuracy: 0.9950\n",
      "Epoch 30/100\n",
      "165/165 [==============================] - 56s 339ms/step - loss: 0.0324 - accuracy: 0.9949 - val_loss: 0.0326 - val_accuracy: 0.9946\n",
      "Epoch 31/100\n",
      "165/165 [==============================] - 59s 358ms/step - loss: 0.0339 - accuracy: 0.9938 - val_loss: 0.0232 - val_accuracy: 0.9976\n",
      "Epoch 32/100\n",
      "165/165 [==============================] - 54s 329ms/step - loss: 0.0318 - accuracy: 0.9947 - val_loss: 0.0368 - val_accuracy: 0.9927\n",
      "Epoch 33/100\n",
      "165/165 [==============================] - 54s 327ms/step - loss: 0.0286 - accuracy: 0.9954 - val_loss: 0.0196 - val_accuracy: 0.9977\n",
      "Epoch 34/100\n",
      "165/165 [==============================] - 55s 331ms/step - loss: 0.0328 - accuracy: 0.9941 - val_loss: 0.1544 - val_accuracy: 0.9583\n",
      "Epoch 35/100\n",
      "165/165 [==============================] - 61s 368ms/step - loss: 0.0398 - accuracy: 0.9935 - val_loss: 0.0256 - val_accuracy: 0.9969\n",
      "Epoch 36/100\n",
      "165/165 [==============================] - 62s 374ms/step - loss: 0.0317 - accuracy: 0.9946 - val_loss: 0.0194 - val_accuracy: 0.9980\n",
      "Epoch 37/100\n",
      "165/165 [==============================] - 55s 331ms/step - loss: 0.0284 - accuracy: 0.9953 - val_loss: 0.0224 - val_accuracy: 0.9967\n",
      "Epoch 38/100\n",
      "165/165 [==============================] - 54s 328ms/step - loss: 0.0270 - accuracy: 0.9957 - val_loss: 0.0250 - val_accuracy: 0.9962\n",
      "Epoch 39/100\n",
      "165/165 [==============================] - 54s 327ms/step - loss: 0.0369 - accuracy: 0.9930 - val_loss: 0.0270 - val_accuracy: 0.9965\n",
      "Epoch 40/100\n",
      "165/165 [==============================] - 54s 327ms/step - loss: 0.0319 - accuracy: 0.9947 - val_loss: 0.0197 - val_accuracy: 0.9986\n",
      "Epoch 41/100\n",
      "165/165 [==============================] - 54s 327ms/step - loss: 0.0258 - accuracy: 0.9959 - val_loss: 0.0354 - val_accuracy: 0.9936\n",
      "Epoch 42/100\n",
      "165/165 [==============================] - 55s 331ms/step - loss: 0.0247 - accuracy: 0.9959 - val_loss: 0.0203 - val_accuracy: 0.9971\n",
      "Epoch 43/100\n",
      "165/165 [==============================] - 61s 371ms/step - loss: 0.0257 - accuracy: 0.9960 - val_loss: 0.0178 - val_accuracy: 0.9985\n",
      "Epoch 44/100\n",
      "165/165 [==============================] - 67s 405ms/step - loss: 0.0252 - accuracy: 0.9959 - val_loss: 0.0197 - val_accuracy: 0.9977\n",
      "Epoch 45/100\n",
      "165/165 [==============================] - 64s 387ms/step - loss: 0.0287 - accuracy: 0.9955 - val_loss: 0.0184 - val_accuracy: 0.9976\n",
      "Epoch 46/100\n",
      "165/165 [==============================] - 84s 511ms/step - loss: 0.0309 - accuracy: 0.9951 - val_loss: 0.0270 - val_accuracy: 0.9965\n",
      "Epoch 47/100\n",
      "165/165 [==============================] - 83s 500ms/step - loss: 0.0334 - accuracy: 0.9950 - val_loss: 0.0349 - val_accuracy: 0.9952\n",
      "Epoch 48/100\n",
      "165/165 [==============================] - 88s 532ms/step - loss: 0.0301 - accuracy: 0.9952 - val_loss: 0.0249 - val_accuracy: 0.9965\n",
      "Epoch 49/100\n",
      "165/165 [==============================] - 68s 411ms/step - loss: 0.0225 - accuracy: 0.9966 - val_loss: 0.0167 - val_accuracy: 0.9979\n",
      "Epoch 50/100\n",
      "165/165 [==============================] - 90s 543ms/step - loss: 0.0232 - accuracy: 0.9964 - val_loss: 0.0169 - val_accuracy: 0.9981\n",
      "Epoch 51/100\n",
      "165/165 [==============================] - 81s 489ms/step - loss: 0.0230 - accuracy: 0.9962 - val_loss: 0.0179 - val_accuracy: 0.9980\n",
      "Epoch 52/100\n",
      "165/165 [==============================] - 82s 495ms/step - loss: 0.0228 - accuracy: 0.9966 - val_loss: 0.0157 - val_accuracy: 0.9985\n",
      "Epoch 53/100\n",
      "165/165 [==============================] - 71s 431ms/step - loss: 0.0220 - accuracy: 0.9966 - val_loss: 0.0146 - val_accuracy: 0.9990\n",
      "Epoch 54/100\n",
      "165/165 [==============================] - 81s 490ms/step - loss: 0.0222 - accuracy: 0.9965 - val_loss: 0.0203 - val_accuracy: 0.9969\n",
      "Epoch 55/100\n",
      "165/165 [==============================] - 72s 430ms/step - loss: 0.0227 - accuracy: 0.9966 - val_loss: 0.0352 - val_accuracy: 0.9936\n",
      "Epoch 56/100\n",
      "165/165 [==============================] - 82s 498ms/step - loss: 0.0227 - accuracy: 0.9968 - val_loss: 0.0141 - val_accuracy: 0.9990\n"
     ]
    },
    {
     "name": "stdout",
     "output_type": "stream",
     "text": [
      "Epoch 57/100\n",
      "165/165 [==============================] - 80s 483ms/step - loss: 0.0221 - accuracy: 0.9966 - val_loss: 0.0212 - val_accuracy: 0.9973\n",
      "Epoch 58/100\n",
      "165/165 [==============================] - 82s 499ms/step - loss: 0.0235 - accuracy: 0.9965 - val_loss: 0.0239 - val_accuracy: 0.9965\n",
      "Epoch 59/100\n",
      "165/165 [==============================] - 80s 486ms/step - loss: 0.0255 - accuracy: 0.9960 - val_loss: 0.0262 - val_accuracy: 0.9961\n",
      "Epoch 60/100\n",
      "165/165 [==============================] - 81s 492ms/step - loss: 0.0248 - accuracy: 0.9962 - val_loss: 0.0229 - val_accuracy: 0.9964\n",
      "Epoch 61/100\n",
      "165/165 [==============================] - 83s 503ms/step - loss: 0.0248 - accuracy: 0.9962 - val_loss: 0.0163 - val_accuracy: 0.9982\n",
      "Epoch 62/100\n",
      "165/165 [==============================] - 76s 463ms/step - loss: 0.0283 - accuracy: 0.9957 - val_loss: 0.0226 - val_accuracy: 0.9971\n",
      "Epoch 63/100\n",
      "165/165 [==============================] - 79s 481ms/step - loss: 0.0234 - accuracy: 0.9967 - val_loss: 0.0150 - val_accuracy: 0.9987\n",
      "Epoch 64/100\n",
      "165/165 [==============================] - 73s 439ms/step - loss: 0.0249 - accuracy: 0.9958 - val_loss: 0.0160 - val_accuracy: 0.9989\n",
      "Epoch 65/100\n",
      "165/165 [==============================] - 73s 439ms/step - loss: 0.0200 - accuracy: 0.9971 - val_loss: 0.0157 - val_accuracy: 0.9977\n",
      "Epoch 66/100\n",
      "165/165 [==============================] - 91s 555ms/step - loss: 0.0216 - accuracy: 0.9969 - val_loss: 0.0160 - val_accuracy: 0.9977\n",
      "Epoch 67/100\n",
      "165/165 [==============================] - 81s 491ms/step - loss: 0.0221 - accuracy: 0.9967 - val_loss: 0.0199 - val_accuracy: 0.9974\n",
      "Epoch 68/100\n",
      "165/165 [==============================] - 69s 417ms/step - loss: 0.0223 - accuracy: 0.9967 - val_loss: 0.0154 - val_accuracy: 0.9988\n",
      "Epoch 69/100\n",
      "165/165 [==============================] - 72s 434ms/step - loss: 0.0237 - accuracy: 0.9963 - val_loss: 0.0184 - val_accuracy: 0.9985\n",
      "Epoch 70/100\n",
      "165/165 [==============================] - 72s 435ms/step - loss: 0.0285 - accuracy: 0.9958 - val_loss: 0.0340 - val_accuracy: 0.9958\n",
      "Epoch 71/100\n",
      "165/165 [==============================] - 80s 483ms/step - loss: 0.0312 - accuracy: 0.9957 - val_loss: 0.0259 - val_accuracy: 0.9964\n",
      "Epoch 72/100\n",
      "165/165 [==============================] - 80s 481ms/step - loss: 0.0225 - accuracy: 0.9968 - val_loss: 0.0195 - val_accuracy: 0.9974\n",
      "Epoch 73/100\n",
      "165/165 [==============================] - 81s 487ms/step - loss: 0.0193 - accuracy: 0.9975 - val_loss: 0.0146 - val_accuracy: 0.9986\n",
      "Epoch 74/100\n",
      "165/165 [==============================] - 81s 490ms/step - loss: 0.0211 - accuracy: 0.9968 - val_loss: 0.0160 - val_accuracy: 0.9983\n",
      "Epoch 75/100\n",
      "165/165 [==============================] - 80s 484ms/step - loss: 0.0205 - accuracy: 0.9967 - val_loss: 0.0165 - val_accuracy: 0.9983\n",
      "Epoch 76/100\n",
      "165/165 [==============================] - 79s 476ms/step - loss: 0.0220 - accuracy: 0.9966 - val_loss: 0.0170 - val_accuracy: 0.9981\n",
      "Epoch 77/100\n",
      "165/165 [==============================] - 74s 448ms/step - loss: 0.0204 - accuracy: 0.9971 - val_loss: 0.0130 - val_accuracy: 0.9993\n",
      "Epoch 78/100\n",
      "165/165 [==============================] - 73s 444ms/step - loss: 0.0174 - accuracy: 0.9976 - val_loss: 0.0200 - val_accuracy: 0.9964\n",
      "Epoch 79/100\n",
      "165/165 [==============================] - 72s 435ms/step - loss: 0.0212 - accuracy: 0.9968 - val_loss: 0.0210 - val_accuracy: 0.9973\n",
      "Epoch 80/100\n",
      "165/165 [==============================] - 71s 430ms/step - loss: 0.0232 - accuracy: 0.9969 - val_loss: 0.0192 - val_accuracy: 0.9981\n",
      "Epoch 81/100\n",
      "165/165 [==============================] - 74s 451ms/step - loss: 0.0233 - accuracy: 0.9965 - val_loss: 0.0197 - val_accuracy: 0.9976\n",
      "Epoch 82/100\n",
      "165/165 [==============================] - 69s 420ms/step - loss: 0.0194 - accuracy: 0.9973 - val_loss: 0.0134 - val_accuracy: 0.9988\n",
      "Epoch 83/100\n",
      "165/165 [==============================] - 73s 443ms/step - loss: 0.0196 - accuracy: 0.9972 - val_loss: 0.0133 - val_accuracy: 0.9992\n",
      "Epoch 84/100\n",
      "165/165 [==============================] - 70s 426ms/step - loss: 0.0195 - accuracy: 0.9973 - val_loss: 0.0148 - val_accuracy: 0.9985\n",
      "Epoch 85/100\n",
      "165/165 [==============================] - 71s 431ms/step - loss: 0.0191 - accuracy: 0.9974 - val_loss: 0.0114 - val_accuracy: 0.9993\n",
      "Epoch 86/100\n",
      "165/165 [==============================] - 72s 437ms/step - loss: 0.0177 - accuracy: 0.9975 - val_loss: 0.0236 - val_accuracy: 0.9954\n",
      "Epoch 87/100\n",
      "165/165 [==============================] - 70s 425ms/step - loss: 0.0315 - accuracy: 0.9956 - val_loss: 0.0329 - val_accuracy: 0.9954\n",
      "Epoch 88/100\n",
      "165/165 [==============================] - 73s 444ms/step - loss: 0.0231 - accuracy: 0.9972 - val_loss: 0.0154 - val_accuracy: 0.9987\n",
      "Epoch 89/100\n",
      "165/165 [==============================] - 72s 433ms/step - loss: 0.0199 - accuracy: 0.9970 - val_loss: 0.0191 - val_accuracy: 0.9976\n",
      "Epoch 90/100\n",
      "165/165 [==============================] - 73s 442ms/step - loss: 0.0192 - accuracy: 0.9977 - val_loss: 0.0236 - val_accuracy: 0.9968\n",
      "Epoch 91/100\n",
      "165/165 [==============================] - 73s 445ms/step - loss: 0.0189 - accuracy: 0.9976 - val_loss: 0.0144 - val_accuracy: 0.9986\n",
      "Epoch 92/100\n",
      "165/165 [==============================] - 73s 444ms/step - loss: 0.0219 - accuracy: 0.9966 - val_loss: 0.0168 - val_accuracy: 0.9983\n",
      "Epoch 93/100\n",
      "165/165 [==============================] - 74s 447ms/step - loss: 0.0210 - accuracy: 0.9967 - val_loss: 0.0140 - val_accuracy: 0.9990\n",
      "Epoch 94/100\n",
      "165/165 [==============================] - 76s 460ms/step - loss: 0.0178 - accuracy: 0.9977 - val_loss: 0.0120 - val_accuracy: 0.9988\n",
      "Epoch 95/100\n",
      "165/165 [==============================] - 70s 426ms/step - loss: 0.0198 - accuracy: 0.9970 - val_loss: 0.0170 - val_accuracy: 0.9982\n",
      "Epoch 96/100\n",
      "165/165 [==============================] - 71s 429ms/step - loss: 0.0195 - accuracy: 0.9974 - val_loss: 0.0167 - val_accuracy: 0.9983\n",
      "Epoch 97/100\n",
      "165/165 [==============================] - 73s 443ms/step - loss: 0.0185 - accuracy: 0.9975 - val_loss: 0.0157 - val_accuracy: 0.9981\n",
      "Epoch 98/100\n",
      "165/165 [==============================] - 73s 443ms/step - loss: 0.0212 - accuracy: 0.9972 - val_loss: 0.0172 - val_accuracy: 0.9985\n",
      "Epoch 99/100\n",
      "165/165 [==============================] - 73s 445ms/step - loss: 0.0303 - accuracy: 0.9957 - val_loss: 0.0184 - val_accuracy: 0.9992\n",
      "Epoch 100/100\n",
      "165/165 [==============================] - 72s 439ms/step - loss: 0.0242 - accuracy: 0.9970 - val_loss: 0.0170 - val_accuracy: 0.9985\n"
     ]
    }
   ],
   "source": [
    "model.compile (\n",
    "    optimizer=tf.optimizers.Adam(),\n",
    "    loss = 'sparse_categorical_crossentropy',\n",
    "    metrics = ['accuracy']\n",
    ")\n",
    "history = model.fit(train_generator, epochs = 100, validation_data = validation_generator)"
   ]
  },
  {
   "cell_type": "code",
   "execution_count": 84,
   "metadata": {},
   "outputs": [
    {
     "name": "stdout",
     "output_type": "stream",
     "text": [
      "Model: \"sequential_12\"\n",
      "_________________________________________________________________\n",
      " Layer (type)                Output Shape              Param #   \n",
      "=================================================================\n",
      " conv2d_34 (Conv2D)          (None, None, None, 48)    480       \n",
      "                                                                 \n",
      " max_pooling2d_24 (MaxPooli  (None, None, None, 48)    0         \n",
      " ng2D)                                                           \n",
      "                                                                 \n",
      " conv2d_35 (Conv2D)          (None, None, None, 64)    76864     \n",
      "                                                                 \n",
      " conv2d_36 (Conv2D)          (None, None, None, 64)    65600     \n",
      "                                                                 \n",
      " max_pooling2d_25 (MaxPooli  (None, None, None, 64)    0         \n",
      " ng2D)                                                           \n",
      "                                                                 \n",
      " batch_normalization_12 (Ba  (None, None, None, 64)    256       \n",
      " tchNormalization)                                               \n",
      "                                                                 \n",
      " flatten_12 (Flatten)        (None, None)              0         \n",
      "                                                                 \n",
      " dense_24 (Dense)            (None, 24)                13848     \n",
      "                                                                 \n",
      " dropout_12 (Dropout)        (None, 24)                0         \n",
      "                                                                 \n",
      " dense_25 (Dense)            (None, 10)                250       \n",
      "                                                                 \n",
      "=================================================================\n",
      "Total params: 157298 (614.45 KB)\n",
      "Trainable params: 157170 (613.95 KB)\n",
      "Non-trainable params: 128 (512.00 Byte)\n",
      "_________________________________________________________________\n"
     ]
    }
   ],
   "source": [
    "model.summary()"
   ]
  },
  {
   "cell_type": "markdown",
   "metadata": {},
   "source": [
    "**Conclusion:** An accuracy of 0.99 was achieved. The attempt to enhance accuracy by adding additional epochs or incorporating new information from the validation dataset did not lead to further improvement."
   ]
  },
  {
   "cell_type": "markdown",
   "metadata": {},
   "source": [
    "# Prediction"
   ]
  },
  {
   "cell_type": "code",
   "execution_count": 85,
   "metadata": {},
   "outputs": [
    {
     "name": "stdout",
     "output_type": "stream",
     "text": [
      "219/219 [==============================] - 14s 62ms/step\n"
     ]
    }
   ],
   "source": [
    "test_datagen = ImageDataGenerator(rescale=1.0 / 255.0)\n",
    "test_generator = test_datagen.flow(images_test, batch_size=128, shuffle=False)\n",
    "predictions = model.predict(test_generator)\n",
    "predicted_labels = predictions.argmax(axis=1)"
   ]
  },
  {
   "cell_type": "code",
   "execution_count": 86,
   "metadata": {},
   "outputs": [
    {
     "data": {
      "text/plain": [
       "array([2, 0, 9, ..., 3, 9, 2], dtype=int64)"
      ]
     },
     "execution_count": 86,
     "metadata": {},
     "output_type": "execute_result"
    }
   ],
   "source": [
    "predicted_labels"
   ]
  },
  {
   "cell_type": "code",
   "execution_count": 87,
   "metadata": {},
   "outputs": [],
   "source": [
    "submission['Label'] = predicted_labels"
   ]
  },
  {
   "cell_type": "code",
   "execution_count": 88,
   "metadata": {},
   "outputs": [
    {
     "data": {
      "text/html": [
       "<div>\n",
       "<style scoped>\n",
       "    .dataframe tbody tr th:only-of-type {\n",
       "        vertical-align: middle;\n",
       "    }\n",
       "\n",
       "    .dataframe tbody tr th {\n",
       "        vertical-align: top;\n",
       "    }\n",
       "\n",
       "    .dataframe thead th {\n",
       "        text-align: right;\n",
       "    }\n",
       "</style>\n",
       "<table border=\"1\" class=\"dataframe\">\n",
       "  <thead>\n",
       "    <tr style=\"text-align: right;\">\n",
       "      <th></th>\n",
       "      <th>ImageId</th>\n",
       "      <th>Label</th>\n",
       "    </tr>\n",
       "  </thead>\n",
       "  <tbody>\n",
       "    <tr>\n",
       "      <th>0</th>\n",
       "      <td>1</td>\n",
       "      <td>2</td>\n",
       "    </tr>\n",
       "    <tr>\n",
       "      <th>1</th>\n",
       "      <td>2</td>\n",
       "      <td>0</td>\n",
       "    </tr>\n",
       "    <tr>\n",
       "      <th>2</th>\n",
       "      <td>3</td>\n",
       "      <td>9</td>\n",
       "    </tr>\n",
       "    <tr>\n",
       "      <th>3</th>\n",
       "      <td>4</td>\n",
       "      <td>0</td>\n",
       "    </tr>\n",
       "    <tr>\n",
       "      <th>4</th>\n",
       "      <td>5</td>\n",
       "      <td>3</td>\n",
       "    </tr>\n",
       "  </tbody>\n",
       "</table>\n",
       "</div>"
      ],
      "text/plain": [
       "   ImageId  Label\n",
       "0        1      2\n",
       "1        2      0\n",
       "2        3      9\n",
       "3        4      0\n",
       "4        5      3"
      ]
     },
     "execution_count": 88,
     "metadata": {},
     "output_type": "execute_result"
    }
   ],
   "source": [
    "submission.head()"
   ]
  },
  {
   "cell_type": "code",
   "execution_count": 89,
   "metadata": {},
   "outputs": [],
   "source": [
    "submission.to_csv('submission.csv', index=False)"
   ]
  },
  {
   "cell_type": "code",
   "execution_count": null,
   "metadata": {},
   "outputs": [],
   "source": []
  }
 ],
 "metadata": {
  "colab": {
   "provenance": []
  },
  "kernelspec": {
   "display_name": "Python 3",
   "language": "python",
   "name": "python3"
  },
  "language_info": {
   "codemirror_mode": {
    "name": "ipython",
    "version": 3
   },
   "file_extension": ".py",
   "mimetype": "text/x-python",
   "name": "python",
   "nbconvert_exporter": "python",
   "pygments_lexer": "ipython3",
   "version": "3.8.8"
  }
 },
 "nbformat": 4,
 "nbformat_minor": 1
}
